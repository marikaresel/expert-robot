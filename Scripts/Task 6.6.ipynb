{
 "cells": [
  {
   "cell_type": "markdown",
   "id": "d9f19874",
   "metadata": {},
   "source": [
    "# 6.6 Sourcing & Analyzing Time Series Data"
   ]
  },
  {
   "cell_type": "markdown",
   "id": "b22d5af2",
   "metadata": {},
   "source": [
    "# Importing libraries and data"
   ]
  },
  {
   "cell_type": "code",
   "execution_count": 1,
   "id": "b23ec2d6",
   "metadata": {},
   "outputs": [],
   "source": [
    "import quandl\n",
    "import pandas as pd\n",
    "import numpy as np\n",
    "import seaborn as sns\n",
    "import matplotlib\n",
    "import matplotlib.pyplot as plt\n",
    "import statsmodels.api as sm # Using .api imports the public access version of statsmodels, which is a library that handles \n",
    "# statistical models.\n",
    "import os\n",
    "import warnings # This is a library that handles warnings."
   ]
  },
  {
   "cell_type": "markdown",
   "id": "a7a7ba16",
   "metadata": {},
   "source": [
    "# Loading and checking the data"
   ]
  },
  {
   "cell_type": "code",
   "execution_count": 2,
   "id": "3299450c",
   "metadata": {},
   "outputs": [],
   "source": [
    "# Define the path to the directory\n",
    "path = '/Users/marika/'"
   ]
  },
  {
   "cell_type": "code",
   "execution_count": 3,
   "id": "a687b14e",
   "metadata": {},
   "outputs": [],
   "source": [
    "# Import data file \"df_crude_rates_merged.csv\"\n",
    "df_wb_data = pd.read_csv(r'/Users/marika/WB-DATA.csv', index_col=False)\n",
    "\n",
    "# Read the CSV file using os.path.join()\n",
    "df_wb_data = pd.read_csv(os.path.join(path, 'WB-DATA.csv'))"
   ]
  },
  {
   "cell_type": "markdown",
   "id": "d9906c8c",
   "metadata": {},
   "source": [
    "# Check data"
   ]
  },
  {
   "cell_type": "code",
   "execution_count": 4,
   "id": "0c79dece",
   "metadata": {},
   "outputs": [
    {
     "data": {
      "text/html": [
       "<div>\n",
       "<style scoped>\n",
       "    .dataframe tbody tr th:only-of-type {\n",
       "        vertical-align: middle;\n",
       "    }\n",
       "\n",
       "    .dataframe tbody tr th {\n",
       "        vertical-align: top;\n",
       "    }\n",
       "\n",
       "    .dataframe thead th {\n",
       "        text-align: right;\n",
       "    }\n",
       "</style>\n",
       "<table border=\"1\" class=\"dataframe\">\n",
       "  <thead>\n",
       "    <tr style=\"text-align: right;\">\n",
       "      <th></th>\n",
       "      <th>series_id</th>\n",
       "      <th>country_code</th>\n",
       "      <th>country_name</th>\n",
       "      <th>year</th>\n",
       "      <th>value</th>\n",
       "    </tr>\n",
       "  </thead>\n",
       "  <tbody>\n",
       "    <tr>\n",
       "      <th>0</th>\n",
       "      <td>VC.PKP.TOTL.UN</td>\n",
       "      <td>XKX</td>\n",
       "      <td>Kosovo</td>\n",
       "      <td>2017</td>\n",
       "      <td>357.0</td>\n",
       "    </tr>\n",
       "    <tr>\n",
       "      <th>1</th>\n",
       "      <td>VC.PKP.TOTL.UN</td>\n",
       "      <td>XKX</td>\n",
       "      <td>Kosovo</td>\n",
       "      <td>2016</td>\n",
       "      <td>462.0</td>\n",
       "    </tr>\n",
       "    <tr>\n",
       "      <th>2</th>\n",
       "      <td>VC.PKP.TOTL.UN</td>\n",
       "      <td>XKX</td>\n",
       "      <td>Kosovo</td>\n",
       "      <td>2015</td>\n",
       "      <td>640.0</td>\n",
       "    </tr>\n",
       "    <tr>\n",
       "      <th>3</th>\n",
       "      <td>VC.PKP.TOTL.UN</td>\n",
       "      <td>XKX</td>\n",
       "      <td>Kosovo</td>\n",
       "      <td>2014</td>\n",
       "      <td>736.0</td>\n",
       "    </tr>\n",
       "    <tr>\n",
       "      <th>4</th>\n",
       "      <td>VC.PKP.TOTL.UN</td>\n",
       "      <td>XKX</td>\n",
       "      <td>Kosovo</td>\n",
       "      <td>2013</td>\n",
       "      <td>756.0</td>\n",
       "    </tr>\n",
       "  </tbody>\n",
       "</table>\n",
       "</div>"
      ],
      "text/plain": [
       "        series_id country_code country_name  year  value\n",
       "0  VC.PKP.TOTL.UN          XKX       Kosovo  2017  357.0\n",
       "1  VC.PKP.TOTL.UN          XKX       Kosovo  2016  462.0\n",
       "2  VC.PKP.TOTL.UN          XKX       Kosovo  2015  640.0\n",
       "3  VC.PKP.TOTL.UN          XKX       Kosovo  2014  736.0\n",
       "4  VC.PKP.TOTL.UN          XKX       Kosovo  2013  756.0"
      ]
     },
     "execution_count": 4,
     "metadata": {},
     "output_type": "execute_result"
    }
   ],
   "source": [
    "df_wb_data.head()"
   ]
  },
  {
   "cell_type": "markdown",
   "id": "e25b21d8",
   "metadata": {},
   "source": [
    "# Cleaning, Wrangling, and Subsetting"
   ]
  },
  {
   "cell_type": "code",
   "execution_count": 5,
   "id": "a7acca8b",
   "metadata": {},
   "outputs": [],
   "source": [
    "values = df_wb_data.groupby( df_wb_data['year'])['value'].count()"
   ]
  },
  {
   "cell_type": "code",
   "execution_count": 6,
   "id": "a257cd32",
   "metadata": {},
   "outputs": [
    {
     "data": {
      "text/plain": [
       "year\n",
       "1990    175\n",
       "1991    163\n",
       "1992    176\n",
       "1993    181\n",
       "1994    196\n",
       "1995    198\n",
       "1996    205\n",
       "1997    202\n",
       "1998    196\n",
       "1999    215\n",
       "2000    237\n",
       "2001    257\n",
       "2002    260\n",
       "2003    278\n",
       "2004    306\n",
       "2005    312\n",
       "2006    330\n",
       "2007    348\n",
       "2008    374\n",
       "2009    397\n",
       "2010    441\n",
       "2011    430\n",
       "2012    485\n",
       "2013    402\n",
       "2014    442\n",
       "2015    449\n",
       "2016    412\n",
       "2017    422\n",
       "2018    395\n",
       "2019    407\n",
       "2020    384\n",
       "2021    319\n",
       "2022      6\n",
       "Name: value, dtype: int64"
      ]
     },
     "execution_count": 6,
     "metadata": {},
     "output_type": "execute_result"
    }
   ],
   "source": [
    "values"
   ]
  },
  {
   "cell_type": "code",
   "execution_count": 7,
   "id": "0334bd0b",
   "metadata": {},
   "outputs": [],
   "source": [
    "#avg duration of values within the years\n",
    "avg_duration_values = df_wb_data.groupby('year')['value'].mean()"
   ]
  },
  {
   "cell_type": "code",
   "execution_count": 8,
   "id": "e3d5dc99",
   "metadata": {},
   "outputs": [
    {
     "data": {
      "text/plain": [
       "year\n",
       "1990    6.714150e+00\n",
       "1991    7.511296e+00\n",
       "1992    8.051777e+00\n",
       "1993    8.505468e+00\n",
       "1994    9.299717e+00\n",
       "1995    8.649472e+00\n",
       "1996    8.089982e+00\n",
       "1997    8.873103e+00\n",
       "1998    8.087272e+00\n",
       "1999    7.633610e+00\n",
       "2000    7.883286e+00\n",
       "2001    7.860456e+00\n",
       "2002    8.732990e+00\n",
       "2003    8.160360e+00\n",
       "2004    8.182688e+00\n",
       "2005    8.483114e+00\n",
       "2006    8.538811e+00\n",
       "2007    1.251628e+02\n",
       "2008    8.839795e+00\n",
       "2009    1.552689e+04\n",
       "2010    1.283699e+04\n",
       "2011    1.139842e+04\n",
       "2012    1.052238e+04\n",
       "2013    1.157463e+04\n",
       "2014    1.206449e+04\n",
       "2015    1.906881e+04\n",
       "2016    4.744389e+04\n",
       "2017    4.706245e+04\n",
       "2018    5.246712e+04\n",
       "2019    6.028200e+04\n",
       "2020    7.100344e+04\n",
       "2021    9.861786e+04\n",
       "2022    6.582567e+06\n",
       "Name: value, dtype: float64"
      ]
     },
     "execution_count": 8,
     "metadata": {},
     "output_type": "execute_result"
    }
   ],
   "source": [
    "avg_duration_values"
   ]
  },
  {
   "cell_type": "code",
   "execution_count": 9,
   "id": "cb83c044",
   "metadata": {},
   "outputs": [],
   "source": [
    "# Keeping year to four digits\n",
    "df_wb_data['year'] = pd.to_datetime(df_wb_data['year'].astype(str), format='%Y')\n",
    "df_wb_data['year'] = df_wb_data['year'].dt.strftime('%Y')"
   ]
  },
  {
   "cell_type": "code",
   "execution_count": 10,
   "id": "a4811eed",
   "metadata": {},
   "outputs": [
    {
     "data": {
      "text/html": [
       "<div>\n",
       "<style scoped>\n",
       "    .dataframe tbody tr th:only-of-type {\n",
       "        vertical-align: middle;\n",
       "    }\n",
       "\n",
       "    .dataframe tbody tr th {\n",
       "        vertical-align: top;\n",
       "    }\n",
       "\n",
       "    .dataframe thead th {\n",
       "        text-align: right;\n",
       "    }\n",
       "</style>\n",
       "<table border=\"1\" class=\"dataframe\">\n",
       "  <thead>\n",
       "    <tr style=\"text-align: right;\">\n",
       "      <th></th>\n",
       "      <th>series_id</th>\n",
       "      <th>country_code</th>\n",
       "      <th>country_name</th>\n",
       "      <th>year</th>\n",
       "      <th>value</th>\n",
       "    </tr>\n",
       "  </thead>\n",
       "  <tbody>\n",
       "    <tr>\n",
       "      <th>0</th>\n",
       "      <td>VC.PKP.TOTL.UN</td>\n",
       "      <td>XKX</td>\n",
       "      <td>Kosovo</td>\n",
       "      <td>2017</td>\n",
       "      <td>357.0</td>\n",
       "    </tr>\n",
       "    <tr>\n",
       "      <th>1</th>\n",
       "      <td>VC.PKP.TOTL.UN</td>\n",
       "      <td>XKX</td>\n",
       "      <td>Kosovo</td>\n",
       "      <td>2016</td>\n",
       "      <td>462.0</td>\n",
       "    </tr>\n",
       "    <tr>\n",
       "      <th>2</th>\n",
       "      <td>VC.PKP.TOTL.UN</td>\n",
       "      <td>XKX</td>\n",
       "      <td>Kosovo</td>\n",
       "      <td>2015</td>\n",
       "      <td>640.0</td>\n",
       "    </tr>\n",
       "    <tr>\n",
       "      <th>3</th>\n",
       "      <td>VC.PKP.TOTL.UN</td>\n",
       "      <td>XKX</td>\n",
       "      <td>Kosovo</td>\n",
       "      <td>2014</td>\n",
       "      <td>736.0</td>\n",
       "    </tr>\n",
       "    <tr>\n",
       "      <th>4</th>\n",
       "      <td>VC.PKP.TOTL.UN</td>\n",
       "      <td>XKX</td>\n",
       "      <td>Kosovo</td>\n",
       "      <td>2013</td>\n",
       "      <td>756.0</td>\n",
       "    </tr>\n",
       "  </tbody>\n",
       "</table>\n",
       "</div>"
      ],
      "text/plain": [
       "        series_id country_code country_name  year  value\n",
       "0  VC.PKP.TOTL.UN          XKX       Kosovo  2017  357.0\n",
       "1  VC.PKP.TOTL.UN          XKX       Kosovo  2016  462.0\n",
       "2  VC.PKP.TOTL.UN          XKX       Kosovo  2015  640.0\n",
       "3  VC.PKP.TOTL.UN          XKX       Kosovo  2014  736.0\n",
       "4  VC.PKP.TOTL.UN          XKX       Kosovo  2013  756.0"
      ]
     },
     "execution_count": 10,
     "metadata": {},
     "output_type": "execute_result"
    }
   ],
   "source": [
    "df_wb_data.head()"
   ]
  },
  {
   "cell_type": "code",
   "execution_count": 11,
   "id": "2487ef00",
   "metadata": {},
   "outputs": [
    {
     "name": "stdout",
     "output_type": "stream",
     "text": [
      "        series_id country_code country_name  year  value  avg_duration_values\n",
      "0  VC.PKP.TOTL.UN          XKX       Kosovo  2017  357.0         47062.449513\n",
      "1  VC.PKP.TOTL.UN          XKX       Kosovo  2016  462.0         47443.893479\n",
      "2  VC.PKP.TOTL.UN          XKX       Kosovo  2015  640.0         19068.807091\n",
      "3  VC.PKP.TOTL.UN          XKX       Kosovo  2014  736.0         12064.494239\n",
      "4  VC.PKP.TOTL.UN          XKX       Kosovo  2013  756.0         11574.632770\n"
     ]
    }
   ],
   "source": [
    "# Compute the average value for each year and add it as a new column 'avg_duration_values'\n",
    "df_wb_data['avg_duration_values'] = df_wb_data.groupby('year')['value'].transform('mean')\n",
    "\n",
    "# Verify the result\n",
    "print(df_wb_data.head())"
   ]
  },
  {
   "cell_type": "code",
   "execution_count": 12,
   "id": "f397e6b1",
   "metadata": {},
   "outputs": [],
   "source": [
    "# Select only the 'year', 'value', and 'avg_duration_values' columns\n",
    "selected_columns_df = df_wb_data[['year', 'value', 'avg_duration_values']]"
   ]
  },
  {
   "cell_type": "code",
   "execution_count": 13,
   "id": "0f428c6c",
   "metadata": {},
   "outputs": [
    {
     "data": {
      "text/html": [
       "<div>\n",
       "<style scoped>\n",
       "    .dataframe tbody tr th:only-of-type {\n",
       "        vertical-align: middle;\n",
       "    }\n",
       "\n",
       "    .dataframe tbody tr th {\n",
       "        vertical-align: top;\n",
       "    }\n",
       "\n",
       "    .dataframe thead th {\n",
       "        text-align: right;\n",
       "    }\n",
       "</style>\n",
       "<table border=\"1\" class=\"dataframe\">\n",
       "  <thead>\n",
       "    <tr style=\"text-align: right;\">\n",
       "      <th></th>\n",
       "      <th>year</th>\n",
       "      <th>value</th>\n",
       "      <th>avg_duration_values</th>\n",
       "    </tr>\n",
       "  </thead>\n",
       "  <tbody>\n",
       "    <tr>\n",
       "      <th>0</th>\n",
       "      <td>2017</td>\n",
       "      <td>357.0</td>\n",
       "      <td>47062.449513</td>\n",
       "    </tr>\n",
       "    <tr>\n",
       "      <th>1</th>\n",
       "      <td>2016</td>\n",
       "      <td>462.0</td>\n",
       "      <td>47443.893479</td>\n",
       "    </tr>\n",
       "    <tr>\n",
       "      <th>2</th>\n",
       "      <td>2015</td>\n",
       "      <td>640.0</td>\n",
       "      <td>19068.807091</td>\n",
       "    </tr>\n",
       "    <tr>\n",
       "      <th>3</th>\n",
       "      <td>2014</td>\n",
       "      <td>736.0</td>\n",
       "      <td>12064.494239</td>\n",
       "    </tr>\n",
       "    <tr>\n",
       "      <th>4</th>\n",
       "      <td>2013</td>\n",
       "      <td>756.0</td>\n",
       "      <td>11574.632770</td>\n",
       "    </tr>\n",
       "    <tr>\n",
       "      <th>...</th>\n",
       "      <td>...</td>\n",
       "      <td>...</td>\n",
       "      <td>...</td>\n",
       "    </tr>\n",
       "    <tr>\n",
       "      <th>9995</th>\n",
       "      <td>2020</td>\n",
       "      <td>21772900.0</td>\n",
       "      <td>71003.442880</td>\n",
       "    </tr>\n",
       "    <tr>\n",
       "      <th>9996</th>\n",
       "      <td>2019</td>\n",
       "      <td>19019900.0</td>\n",
       "      <td>60281.995077</td>\n",
       "    </tr>\n",
       "    <tr>\n",
       "      <th>9997</th>\n",
       "      <td>2018</td>\n",
       "      <td>16452500.0</td>\n",
       "      <td>52467.123788</td>\n",
       "    </tr>\n",
       "    <tr>\n",
       "      <th>9998</th>\n",
       "      <td>2017</td>\n",
       "      <td>14010900.0</td>\n",
       "      <td>47062.449513</td>\n",
       "    </tr>\n",
       "    <tr>\n",
       "      <th>9999</th>\n",
       "      <td>2016</td>\n",
       "      <td>12184200.0</td>\n",
       "      <td>47443.893479</td>\n",
       "    </tr>\n",
       "  </tbody>\n",
       "</table>\n",
       "<p>10000 rows × 3 columns</p>\n",
       "</div>"
      ],
      "text/plain": [
       "      year       value  avg_duration_values\n",
       "0     2017       357.0         47062.449513\n",
       "1     2016       462.0         47443.893479\n",
       "2     2015       640.0         19068.807091\n",
       "3     2014       736.0         12064.494239\n",
       "4     2013       756.0         11574.632770\n",
       "...    ...         ...                  ...\n",
       "9995  2020  21772900.0         71003.442880\n",
       "9996  2019  19019900.0         60281.995077\n",
       "9997  2018  16452500.0         52467.123788\n",
       "9998  2017  14010900.0         47062.449513\n",
       "9999  2016  12184200.0         47443.893479\n",
       "\n",
       "[10000 rows x 3 columns]"
      ]
     },
     "execution_count": 13,
     "metadata": {},
     "output_type": "execute_result"
    }
   ],
   "source": [
    "selected_columns_df"
   ]
  },
  {
   "cell_type": "markdown",
   "id": "221bcae0",
   "metadata": {},
   "source": [
    "# Why I chose these data points\n",
    "\n",
    "This data includes years and values that can contribute to my analysis on the crude suicide rates. Assuming the values have death rates that are suicide rates, I am able to see if the values have evolved over the years."
   ]
  },
  {
   "cell_type": "code",
   "execution_count": 14,
   "id": "69f4220c",
   "metadata": {},
   "outputs": [],
   "source": [
    "# Select only the 'year' and 'value'\n",
    "yr_value_df = df_wb_data[['year', 'value']]"
   ]
  },
  {
   "cell_type": "code",
   "execution_count": 15,
   "id": "439856bc",
   "metadata": {},
   "outputs": [
    {
     "data": {
      "text/html": [
       "<div>\n",
       "<style scoped>\n",
       "    .dataframe tbody tr th:only-of-type {\n",
       "        vertical-align: middle;\n",
       "    }\n",
       "\n",
       "    .dataframe tbody tr th {\n",
       "        vertical-align: top;\n",
       "    }\n",
       "\n",
       "    .dataframe thead th {\n",
       "        text-align: right;\n",
       "    }\n",
       "</style>\n",
       "<table border=\"1\" class=\"dataframe\">\n",
       "  <thead>\n",
       "    <tr style=\"text-align: right;\">\n",
       "      <th></th>\n",
       "      <th>year</th>\n",
       "      <th>value</th>\n",
       "    </tr>\n",
       "  </thead>\n",
       "  <tbody>\n",
       "    <tr>\n",
       "      <th>0</th>\n",
       "      <td>2017</td>\n",
       "      <td>357.0</td>\n",
       "    </tr>\n",
       "    <tr>\n",
       "      <th>1</th>\n",
       "      <td>2016</td>\n",
       "      <td>462.0</td>\n",
       "    </tr>\n",
       "    <tr>\n",
       "      <th>2</th>\n",
       "      <td>2015</td>\n",
       "      <td>640.0</td>\n",
       "    </tr>\n",
       "    <tr>\n",
       "      <th>3</th>\n",
       "      <td>2014</td>\n",
       "      <td>736.0</td>\n",
       "    </tr>\n",
       "    <tr>\n",
       "      <th>4</th>\n",
       "      <td>2013</td>\n",
       "      <td>756.0</td>\n",
       "    </tr>\n",
       "    <tr>\n",
       "      <th>...</th>\n",
       "      <td>...</td>\n",
       "      <td>...</td>\n",
       "    </tr>\n",
       "    <tr>\n",
       "      <th>9995</th>\n",
       "      <td>2020</td>\n",
       "      <td>21772900.0</td>\n",
       "    </tr>\n",
       "    <tr>\n",
       "      <th>9996</th>\n",
       "      <td>2019</td>\n",
       "      <td>19019900.0</td>\n",
       "    </tr>\n",
       "    <tr>\n",
       "      <th>9997</th>\n",
       "      <td>2018</td>\n",
       "      <td>16452500.0</td>\n",
       "    </tr>\n",
       "    <tr>\n",
       "      <th>9998</th>\n",
       "      <td>2017</td>\n",
       "      <td>14010900.0</td>\n",
       "    </tr>\n",
       "    <tr>\n",
       "      <th>9999</th>\n",
       "      <td>2016</td>\n",
       "      <td>12184200.0</td>\n",
       "    </tr>\n",
       "  </tbody>\n",
       "</table>\n",
       "<p>10000 rows × 2 columns</p>\n",
       "</div>"
      ],
      "text/plain": [
       "      year       value\n",
       "0     2017       357.0\n",
       "1     2016       462.0\n",
       "2     2015       640.0\n",
       "3     2014       736.0\n",
       "4     2013       756.0\n",
       "...    ...         ...\n",
       "9995  2020  21772900.0\n",
       "9996  2019  19019900.0\n",
       "9997  2018  16452500.0\n",
       "9998  2017  14010900.0\n",
       "9999  2016  12184200.0\n",
       "\n",
       "[10000 rows x 2 columns]"
      ]
     },
     "execution_count": 15,
     "metadata": {},
     "output_type": "execute_result"
    }
   ],
   "source": [
    "yr_value_df"
   ]
  },
  {
   "cell_type": "code",
   "execution_count": 16,
   "id": "f9c0dc3f",
   "metadata": {},
   "outputs": [
    {
     "data": {
      "text/plain": [
       "year     0\n",
       "value    0\n",
       "dtype: int64"
      ]
     },
     "execution_count": 16,
     "metadata": {},
     "output_type": "execute_result"
    }
   ],
   "source": [
    "# Check for missing values (you shouldn't have any)\n",
    "\n",
    "yr_value_df.isnull().sum() "
   ]
  },
  {
   "cell_type": "code",
   "execution_count": 17,
   "id": "424fb9fb",
   "metadata": {},
   "outputs": [
    {
     "data": {
      "image/png": "[encoded data removed]",
      "text/plain": [
       "<Figure size 1500x600 with 1 Axes>"
      ]
     },
     "metadata": {},
     "output_type": "display_data"
    }
   ],
   "source": [
    "import matplotlib.pyplot as plt\n",
    "\n",
    "# Sort DataFrame by 'year'\n",
    "df_wb_data_sorted = df_wb_data.sort_values(by='year')\n",
    "\n",
    "plt.figure(figsize=(15, 6))  # Adjust the figure size if needed\n",
    "\n",
    "# Plotting 'year' against 'value'\n",
    "plt.plot(df_wb_data_sorted['year'], df_wb_data_sorted['value'], marker='o', linestyle='-', color='b', label='Value')\n",
    "\n",
    "# Adding labels and title\n",
    "plt.xlabel('Year')\n",
    "plt.ylabel('Value')\n",
    "plt.title('Yearly Value')\n",
    "plt.grid(True)  # Add grid lines for better readability\n",
    "plt.legend()  # Show legend based on label 'Value'\n",
    "\n",
    "# Show plot\n",
    "plt.tight_layout()  # Adjust layout for better fit of labels\n",
    "plt.show()"
   ]
  },
  {
   "cell_type": "markdown",
   "id": "727d7138",
   "metadata": {},
   "source": [
    "# It looks like as the years increase, so does the values"
   ]
  },
  {
   "cell_type": "markdown",
   "id": "e41aedda",
   "metadata": {},
   "source": [
    "# Times series analysis - decomposition"
   ]
  },
  {
   "cell_type": "code",
   "execution_count": 18,
   "id": "f65b5f5b",
   "metadata": {},
   "outputs": [],
   "source": [
    "years = yr_value_df['year']  # Extracting 'year' column\n",
    "values = yr_value_df['value']  # Extracting 'value' column"
   ]
  },
  {
   "cell_type": "code",
   "execution_count": 19,
   "id": "4138e18c",
   "metadata": {},
   "outputs": [],
   "source": [
    "import pandas as pd\n",
    "from statsmodels.tsa.seasonal import seasonal_decompose\n",
    "import matplotlib.pyplot as plt"
   ]
  },
  {
   "cell_type": "code",
   "execution_count": 20,
   "id": "5d31f3e1",
   "metadata": {},
   "outputs": [],
   "source": [
    "decomposition = seasonal_decompose(yr_value_df['value'], model='additive', period=1)"
   ]
  },
  {
   "cell_type": "code",
   "execution_count": 21,
   "id": "97bb5e5d",
   "metadata": {
    "scrolled": true
   },
   "outputs": [
    {
     "data": {
      "image/png": "[encoded data removed]",
      "text/plain": [
       "<Figure size 1000x800 with 4 Axes>"
      ]
     },
     "metadata": {},
     "output_type": "display_data"
    }
   ],
   "source": [
    "fig, (ax1, ax2, ax3, ax4) = plt.subplots(4, 1, figsize=(10, 8), sharex=True)\n",
    "\n",
    "yr_value_df['value'].plot(ax=ax1)\n",
    "ax1.set_title('Original Time Series')\n",
    "\n",
    "decomposition.trend.plot(ax=ax2)\n",
    "ax2.set_title('Trend Component')\n",
    "\n",
    "decomposition.seasonal.plot(ax=ax3)\n",
    "ax3.set_title('Seasonal Component')\n",
    "\n",
    "decomposition.resid.plot(ax=ax4)\n",
    "ax4.set_title('Residual Component')\n",
    "\n",
    "plt.tight_layout()\n",
    "plt.show()"
   ]
  },
  {
   "cell_type": "code",
   "execution_count": 36,
   "id": "1bd74b21",
   "metadata": {},
   "outputs": [],
   "source": [
    "# Group by Year and calculate the mean suicide rate\n",
    "yr_value_df = df_wb_data.groupby('year')['value'].mean().reset_index()\n",
    "\n",
    "# Ensure data is ordered by Year\n",
    "yr_value_df = yr_value_df.sort_values(by='year')\n",
    "\n",
    "# Set Year as index for time series analysis\n",
    "yr_value_df.set_index('year', inplace=True)"
   ]
  },
  {
   "cell_type": "code",
   "execution_count": 38,
   "id": "f0c15541",
   "metadata": {},
   "outputs": [],
   "source": [
    "# Perform seasonal decomposition\n",
    "decomposition = seasonal_decompose(yr_value_df['value'], model='additive', period=1)  # Adjust 'period' as needed"
   ]
  },
  {
   "cell_type": "code",
   "execution_count": 39,
   "id": "ce05d6fc",
   "metadata": {},
   "outputs": [
    {
     "data": {
      "image/png": "[encoded data removed]",
      "text/plain": [
       "<Figure size 1000x800 with 4 Axes>"
      ]
     },
     "metadata": {},
     "output_type": "display_data"
    }
   ],
   "source": [
    "# Plotting the original time series and its components\n",
    "fig, (ax1, ax2, ax3, ax4) = plt.subplots(4, 1, figsize=(10, 8), sharex=True)\n",
    "\n",
    "# Original time series\n",
    "yr_value_df['value'].plot(ax=ax1)\n",
    "ax1.set_title('Original Time Series')\n",
    "ax1.set_ylabel('Average Suicide Rate')\n",
    "\n",
    "# Trend component\n",
    "decomposition.trend.plot(ax=ax2)\n",
    "ax2.set_title('Trend Component')\n",
    "ax2.set_ylabel('Trend')\n",
    "\n",
    "# Seasonal component\n",
    "decomposition.seasonal.plot(ax=ax3)\n",
    "ax3.set_title('Seasonal Component')\n",
    "ax3.set_ylabel('Seasonal')\n",
    "\n",
    "# Residual component\n",
    "decomposition.resid.plot(ax=ax4)\n",
    "ax4.set_title('Residual Component')\n",
    "ax4.set_ylabel('Residual')\n",
    "\n",
    "plt.tight_layout()\n",
    "plt.show()"
   ]
  },
  {
   "cell_type": "markdown",
   "id": "4b72bc11",
   "metadata": {},
   "source": [
    "# The trend seems to only have increased at the end. Seasonal and residual seem to have a static line so it suggests little change in the series over time. "
   ]
  },
  {
   "cell_type": "markdown",
   "id": "227366e8",
   "metadata": {},
   "source": [
    "# Testing for stationarity"
   ]
  },
  {
   "cell_type": "code",
   "execution_count": 22,
   "id": "0773f082",
   "metadata": {},
   "outputs": [],
   "source": [
    "import pandas as pd\n",
    "import matplotlib.pyplot as plt\n",
    "from statsmodels.tsa.stattools import adfuller"
   ]
  },
  {
   "cell_type": "code",
   "execution_count": 23,
   "id": "9b2db418",
   "metadata": {},
   "outputs": [],
   "source": [
    "def dickey_fuller_test(timeseries):\n",
    "    # Perform Dickey-Fuller test:\n",
    "    print('Results of Dickey-Fuller Test:')\n",
    "    dftest = adfuller(timeseries, autolag='AIC')\n",
    "    dfoutput = pd.Series(dftest[0:4], index=['Test Statistic', 'p-value', '#Lags Used', 'Number of Observations Used'])\n",
    "    for key, value in dftest[4].items():\n",
    "        dfoutput[f'Critical Value ({key})'] = value\n",
    "    print(dfoutput)"
   ]
  },
  {
   "cell_type": "code",
   "execution_count": 24,
   "id": "538d1a83",
   "metadata": {},
   "outputs": [
    {
     "name": "stdout",
     "output_type": "stream",
     "text": [
      "Results of Dickey-Fuller Test:\n",
      "Test Statistic                    9.954648\n",
      "p-value                           1.000000\n",
      "#Lags Used                       38.000000\n",
      "Number of Observations Used    9961.000000\n",
      "Critical Value (1%)              -3.431007\n",
      "Critical Value (5%)              -2.861830\n",
      "Critical Value (10%)             -2.566924\n",
      "dtype: float64\n"
     ]
    }
   ],
   "source": [
    "# Apply the Dickey-Fuller test\n",
    "dickey_fuller_test(yr_value_df['value'])"
   ]
  },
  {
   "cell_type": "markdown",
   "id": "8c835d22",
   "metadata": {},
   "source": [
    "# Since the p-value is 1.0, it indicates strong evidence that we cannot reject the null hypothesis. Therefore, I have to conduct differencing"
   ]
  },
  {
   "cell_type": "code",
   "execution_count": 25,
   "id": "30225eeb",
   "metadata": {},
   "outputs": [],
   "source": [
    "years = yr_value_df['year']  # Extracting 'year' column\n",
    "values = yr_value_df['value']  # Extracting 'value' column"
   ]
  },
  {
   "cell_type": "code",
   "execution_count": 26,
   "id": "8b3c1a16",
   "metadata": {},
   "outputs": [
    {
     "data": {
      "text/html": [
       "<div>\n",
       "<style scoped>\n",
       "    .dataframe tbody tr th:only-of-type {\n",
       "        vertical-align: middle;\n",
       "    }\n",
       "\n",
       "    .dataframe tbody tr th {\n",
       "        vertical-align: top;\n",
       "    }\n",
       "\n",
       "    .dataframe thead th {\n",
       "        text-align: right;\n",
       "    }\n",
       "</style>\n",
       "<table border=\"1\" class=\"dataframe\">\n",
       "  <thead>\n",
       "    <tr style=\"text-align: right;\">\n",
       "      <th></th>\n",
       "      <th>year</th>\n",
       "      <th>value</th>\n",
       "    </tr>\n",
       "  </thead>\n",
       "  <tbody>\n",
       "    <tr>\n",
       "      <th>0</th>\n",
       "      <td>2017</td>\n",
       "      <td>357.0</td>\n",
       "    </tr>\n",
       "    <tr>\n",
       "      <th>1</th>\n",
       "      <td>2016</td>\n",
       "      <td>462.0</td>\n",
       "    </tr>\n",
       "    <tr>\n",
       "      <th>2</th>\n",
       "      <td>2015</td>\n",
       "      <td>640.0</td>\n",
       "    </tr>\n",
       "    <tr>\n",
       "      <th>3</th>\n",
       "      <td>2014</td>\n",
       "      <td>736.0</td>\n",
       "    </tr>\n",
       "    <tr>\n",
       "      <th>4</th>\n",
       "      <td>2013</td>\n",
       "      <td>756.0</td>\n",
       "    </tr>\n",
       "  </tbody>\n",
       "</table>\n",
       "</div>"
      ],
      "text/plain": [
       "   year  value\n",
       "0  2017  357.0\n",
       "1  2016  462.0\n",
       "2  2015  640.0\n",
       "3  2014  736.0\n",
       "4  2013  756.0"
      ]
     },
     "execution_count": 26,
     "metadata": {},
     "output_type": "execute_result"
    }
   ],
   "source": [
    "yr_value_df.head()"
   ]
  },
  {
   "cell_type": "code",
   "execution_count": 27,
   "id": "7a88c146",
   "metadata": {},
   "outputs": [
    {
     "name": "stdout",
     "output_type": "stream",
     "text": [
      "      year       value  First_Difference\n",
      "0     2017       357.0               NaN\n",
      "1     2016       462.0             105.0\n",
      "2     2015       640.0             178.0\n",
      "3     2014       736.0              96.0\n",
      "4     2013       756.0              20.0\n",
      "...    ...         ...               ...\n",
      "9995  2020  21772900.0        -3424200.0\n",
      "9996  2019  19019900.0        -2753000.0\n",
      "9997  2018  16452500.0        -2567400.0\n",
      "9998  2017  14010900.0        -2441600.0\n",
      "9999  2016  12184200.0        -1826700.0\n",
      "\n",
      "[10000 rows x 3 columns]\n"
     ]
    },
    {
     "name": "stderr",
     "output_type": "stream",
     "text": [
      "/var/folders/zz/ztknjg01693_5_h12npzs1l00000gn/T/ipykernel_79259/2009744874.py:2: SettingWithCopyWarning: \n",
      "A value is trying to be set on a copy of a slice from a DataFrame.\n",
      "Try using .loc[row_indexer,col_indexer] = value instead\n",
      "\n",
      "See the caveats in the documentation: https://pandas.pydata.org/pandas-docs/stable/user_guide/indexing.html#returning-a-view-versus-a-copy\n",
      "  yr_value_df.loc[:, 'First_Difference'] = yr_value_df['value'].diff()\n"
     ]
    }
   ],
   "source": [
    "# Calculate first-order difference using .loc to avoid SettingWithCopyWarning\n",
    "yr_value_df.loc[:, 'First_Difference'] = yr_value_df['value'].diff()\n",
    "\n",
    "# Print the updated DataFrame\n",
    "print(yr_value_df)"
   ]
  },
  {
   "cell_type": "code",
   "execution_count": 28,
   "id": "5bbafce0",
   "metadata": {},
   "outputs": [
    {
     "name": "stdout",
     "output_type": "stream",
     "text": [
      "Results of Dickey-Fuller Test:\n",
      "Test Statistic                    9.954648\n",
      "p-value                           1.000000\n",
      "#Lags Used                       38.000000\n",
      "Number of Observations Used    9961.000000\n",
      "Critical Value (1%)              -3.431007\n",
      "Critical Value (5%)              -2.861830\n",
      "Critical Value (10%)             -2.566924\n",
      "dtype: float64\n"
     ]
    }
   ],
   "source": [
    "# Perform Dickey-Fuller test on 'value' column\n",
    "result = adfuller(yr_value_df['value'])\n",
    "\n",
    "# Extract and print test results\n",
    "print('Results of Dickey-Fuller Test:')\n",
    "dfoutput = pd.Series(result[0:4], index=['Test Statistic', 'p-value', '#Lags Used', 'Number of Observations Used'])\n",
    "for key, value in result[4].items():\n",
    "    dfoutput[f'Critical Value ({key})'] = value\n",
    "print(dfoutput)"
   ]
  },
  {
   "cell_type": "markdown",
   "id": "afa7303c",
   "metadata": {},
   "source": [
    "# Performing second-order difference"
   ]
  },
  {
   "cell_type": "code",
   "execution_count": 29,
   "id": "118689b7",
   "metadata": {},
   "outputs": [
    {
     "name": "stdout",
     "output_type": "stream",
     "text": [
      "      year       value  First_Difference  Second_Difference\n",
      "0     2017       357.0               NaN                NaN\n",
      "1     2016       462.0             105.0                NaN\n",
      "2     2015       640.0             178.0               73.0\n",
      "3     2014       736.0              96.0              -82.0\n",
      "4     2013       756.0              20.0              -76.0\n",
      "...    ...         ...               ...                ...\n",
      "9995  2020  21772900.0        -3424200.0          -682700.0\n",
      "9996  2019  19019900.0        -2753000.0           671200.0\n",
      "9997  2018  16452500.0        -2567400.0           185600.0\n",
      "9998  2017  14010900.0        -2441600.0           125800.0\n",
      "9999  2016  12184200.0        -1826700.0           614900.0\n",
      "\n",
      "[10000 rows x 4 columns]\n"
     ]
    },
    {
     "name": "stderr",
     "output_type": "stream",
     "text": [
      "/var/folders/zz/ztknjg01693_5_h12npzs1l00000gn/T/ipykernel_79259/1856908943.py:2: SettingWithCopyWarning: \n",
      "A value is trying to be set on a copy of a slice from a DataFrame.\n",
      "Try using .loc[row_indexer,col_indexer] = value instead\n",
      "\n",
      "See the caveats in the documentation: https://pandas.pydata.org/pandas-docs/stable/user_guide/indexing.html#returning-a-view-versus-a-copy\n",
      "  yr_value_df['First_Difference'] = yr_value_df['value'].diff()\n",
      "/var/folders/zz/ztknjg01693_5_h12npzs1l00000gn/T/ipykernel_79259/1856908943.py:5: SettingWithCopyWarning: \n",
      "A value is trying to be set on a copy of a slice from a DataFrame.\n",
      "Try using .loc[row_indexer,col_indexer] = value instead\n",
      "\n",
      "See the caveats in the documentation: https://pandas.pydata.org/pandas-docs/stable/user_guide/indexing.html#returning-a-view-versus-a-copy\n",
      "  yr_value_df['Second_Difference'] = yr_value_df['First_Difference'].diff()\n"
     ]
    }
   ],
   "source": [
    "# Calculate first-order difference\n",
    "yr_value_df['First_Difference'] = yr_value_df['value'].diff()\n",
    "\n",
    "# Calculate second-order difference\n",
    "yr_value_df['Second_Difference'] = yr_value_df['First_Difference'].diff()\n",
    "\n",
    "# Print the resulting DataFrame\n",
    "print(yr_value_df)"
   ]
  },
  {
   "cell_type": "code",
   "execution_count": 30,
   "id": "f5104f19",
   "metadata": {},
   "outputs": [
    {
     "name": "stdout",
     "output_type": "stream",
     "text": [
      "Results of Dickey-Fuller Test:\n",
      "Test Statistic: -27.526753980897556\n",
      "p-value: 0.0\n",
      "#Lags Used: 38\n",
      "Number of Observations Used: 9959\n",
      "Critical Values:\n",
      "1%: -3.4310067914762\n",
      "5%: -2.8618302626314684\n",
      "10%: -2.5669245016624593\n"
     ]
    }
   ],
   "source": [
    "# Perform Dickey-Fuller test on the second-order difference\n",
    "result = adfuller(yr_value_df['Second_Difference'].dropna())\n",
    "\n",
    "# Print the results\n",
    "print('Results of Dickey-Fuller Test:')\n",
    "print(f'Test Statistic: {result[0]}')\n",
    "print(f'p-value: {result[1]}')\n",
    "print(f'#Lags Used: {result[2]}')\n",
    "print(f'Number of Observations Used: {result[3]}')\n",
    "print('Critical Values:')\n",
    "for key, value in result[4].items():\n",
    "    print(f'{key}: {value}')"
   ]
  },
  {
   "cell_type": "markdown",
   "id": "221404b9",
   "metadata": {},
   "source": [
    "# The p-value is now 0, meaning there is an extremely strong evidence against the null hypothesis and the time series data is stationary. "
   ]
  },
  {
   "cell_type": "markdown",
   "id": "a8068fef",
   "metadata": {},
   "source": [
    "# Checking for autocorrelations"
   ]
  },
  {
   "cell_type": "code",
   "execution_count": 31,
   "id": "66662d51",
   "metadata": {},
   "outputs": [
    {
     "data": {
      "image/png": "[encoded data removed]",
      "text/plain": [
       "<Figure size 640x480 with 1 Axes>"
      ]
     },
     "metadata": {},
     "output_type": "display_data"
    }
   ],
   "source": [
    "from statsmodels.graphics.tsaplots import plot_acf\n",
    "\n",
    "# Plot ACF\n",
    "plot_acf(yr_value_df['value'], lags=50)  \n",
    "plt.xlabel('Lag')\n",
    "plt.ylabel('Autocorrelation')\n",
    "plt.title('Autocorrelation Function (ACF)')\n",
    "plt.show()"
   ]
  },
  {
   "cell_type": "code",
   "execution_count": 32,
   "id": "847f764f",
   "metadata": {},
   "outputs": [
    {
     "data": {
      "text/plain": [
       "<Figure size 640x480 with 0 Axes>"
      ]
     },
     "metadata": {},
     "output_type": "display_data"
    }
   ],
   "source": [
    "# Ensure the path\n",
    "path = '/Users/marika/World Health Organization Analysis/Visuals'\n",
    "\n",
    "# Save the plot to the \"Visuals\" folder\n",
    "file_name = os.path.join(path, 'wb_data.png')\n",
    "plt.savefig(file_name)"
   ]
  },
  {
   "cell_type": "code",
   "execution_count": null,
   "id": "cee58f73",
   "metadata": {},
   "outputs": [],
   "source": []
  }
 ],
 "metadata": {
  "kernelspec": {
   "display_name": "Python 3 (ipykernel)",
   "language": "python",
   "name": "python3"
  },
  "language_info": {
   "codemirror_mode": {
    "name": "ipython",
    "version": 3
   },
   "file_extension": ".py",
   "mimetype": "text/x-python",
   "name": "python",
   "nbconvert_exporter": "python",
   "pygments_lexer": "ipython3",
   "version": "3.11.7"
  }
 },
 "nbformat": 4,
 "nbformat_minor": 5
}
